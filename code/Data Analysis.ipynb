{
 "cells": [
  {
   "cell_type": "markdown",
   "metadata": {
    "colab_type": "text",
    "id": "c2ho71B6IdPe"
   },
   "source": [
    "# Analysis of Call Quality Data\n",
    "\n",
    "In this notebook, we import, process and analyze the dataset chosen. The dataset is created using multiple excel files each corresponding to a month of call quality data from various regions of India and such regions wherein the network operators have customers."
   ]
  },
  {
   "cell_type": "code",
   "execution_count": 124,
   "metadata": {
    "colab": {},
    "colab_type": "code",
    "id": "u0b0XNxqIdPi"
   },
   "outputs": [],
   "source": [
    "import matplotlib.pyplot as plt\n",
    "import numpy as np\n",
    "import pandas as pd\n",
    "import datetime\n",
    "import os\n",
    "import sys\n",
    "import operator\n",
    "from itertools import chain, combinations\n",
    "from collections import defaultdict\n",
    "from optparse import OptionParser\n",
    "\n",
    "# Helper files to implement data analysis algorithms from scratch\n",
    "from apriori_helper import loadData, generateOneItemsets, returnItemsWithMinSupport, joinSet, getSupport, subsets\n",
    "from knn_scratch import KNN\n",
    "from NB_scratch import NBClassify\n",
    "from misc_helper import labelEncode, test_train_split"
   ]
  },
  {
   "cell_type": "code",
   "execution_count": 125,
   "metadata": {},
   "outputs": [],
   "source": [
    "# Creating paths to save plots and data\n",
    "cwd = os.getcwd()\n",
    "parent = os.path.abspath(os.path.join(cwd, os.pardir))\n",
    "plots_path = os.path.join(parent, \"plots\")\n",
    "data_path = os.path.join(parent, \"data\")"
   ]
  },
  {
   "cell_type": "markdown",
   "metadata": {
    "colab_type": "text",
    "id": "AjUzGU7tIdPm"
   },
   "source": [
    "### 1. Data Overview\n",
    "To get an initial idea of the given data `head()` function of pandas dataframe is used to display the first few datapoints. Here we get to notice the raw data and the available attributes for analysis."
   ]
  },
  {
   "cell_type": "code",
   "execution_count": 126,
   "metadata": {
    "colab": {},
    "colab_type": "code",
    "id": "WaUr7BIDIdPo",
    "outputId": "48e1fbd8-dbcc-44de-c67c-aa27d20e66af"
   },
   "outputs": [
    {
     "data": {
      "text/html": [
       "<div>\n",
       "<style scoped>\n",
       "    .dataframe tbody tr th:only-of-type {\n",
       "        vertical-align: middle;\n",
       "    }\n",
       "\n",
       "    .dataframe tbody tr th {\n",
       "        vertical-align: top;\n",
       "    }\n",
       "\n",
       "    .dataframe thead th {\n",
       "        text-align: right;\n",
       "    }\n",
       "</style>\n",
       "<table border=\"1\" class=\"dataframe\">\n",
       "  <thead>\n",
       "    <tr style=\"text-align: right;\">\n",
       "      <th></th>\n",
       "      <th>Operator</th>\n",
       "      <th>Indoor_Outdoor_Travelling</th>\n",
       "      <th>Network Type</th>\n",
       "      <th>Rating</th>\n",
       "      <th>Call Drop Category</th>\n",
       "      <th>Latitude</th>\n",
       "      <th>Longitude</th>\n",
       "      <th>State Name</th>\n",
       "      <th>Month</th>\n",
       "      <th>Year</th>\n",
       "    </tr>\n",
       "  </thead>\n",
       "  <tbody>\n",
       "    <tr>\n",
       "      <th>0</th>\n",
       "      <td>Airtel</td>\n",
       "      <td>Indoor</td>\n",
       "      <td>3G</td>\n",
       "      <td>5</td>\n",
       "      <td>Satisfactory</td>\n",
       "      <td>28.422966</td>\n",
       "      <td>76.912324</td>\n",
       "      <td>Haryana</td>\n",
       "      <td>April</td>\n",
       "      <td>2018</td>\n",
       "    </tr>\n",
       "    <tr>\n",
       "      <th>1</th>\n",
       "      <td>RJio</td>\n",
       "      <td>Indoor</td>\n",
       "      <td>4G</td>\n",
       "      <td>4</td>\n",
       "      <td>Satisfactory</td>\n",
       "      <td>11.158358</td>\n",
       "      <td>77.301897</td>\n",
       "      <td>Tamil Nadu</td>\n",
       "      <td>April</td>\n",
       "      <td>2018</td>\n",
       "    </tr>\n",
       "    <tr>\n",
       "      <th>2</th>\n",
       "      <td>Airtel</td>\n",
       "      <td>Outdoor</td>\n",
       "      <td>3G</td>\n",
       "      <td>5</td>\n",
       "      <td>Satisfactory</td>\n",
       "      <td>28.422931</td>\n",
       "      <td>76.912253</td>\n",
       "      <td>Haryana</td>\n",
       "      <td>April</td>\n",
       "      <td>2018</td>\n",
       "    </tr>\n",
       "    <tr>\n",
       "      <th>3</th>\n",
       "      <td>Airtel</td>\n",
       "      <td>Travelling</td>\n",
       "      <td>3G</td>\n",
       "      <td>5</td>\n",
       "      <td>Satisfactory</td>\n",
       "      <td>28.422947</td>\n",
       "      <td>76.912260</td>\n",
       "      <td>Haryana</td>\n",
       "      <td>April</td>\n",
       "      <td>2018</td>\n",
       "    </tr>\n",
       "    <tr>\n",
       "      <th>4</th>\n",
       "      <td>RJio</td>\n",
       "      <td>Indoor</td>\n",
       "      <td>4G</td>\n",
       "      <td>5</td>\n",
       "      <td>Satisfactory</td>\n",
       "      <td>25.625990</td>\n",
       "      <td>85.094294</td>\n",
       "      <td>Bihar</td>\n",
       "      <td>April</td>\n",
       "      <td>2018</td>\n",
       "    </tr>\n",
       "  </tbody>\n",
       "</table>\n",
       "</div>"
      ],
      "text/plain": [
       "  Operator Indoor_Outdoor_Travelling Network Type  Rating Call Drop Category  \\\n",
       "0   Airtel                    Indoor           3G       5       Satisfactory   \n",
       "1     RJio                    Indoor           4G       4       Satisfactory   \n",
       "2   Airtel                   Outdoor           3G       5       Satisfactory   \n",
       "3   Airtel                Travelling           3G       5       Satisfactory   \n",
       "4     RJio                    Indoor           4G       5       Satisfactory   \n",
       "\n",
       "    Latitude  Longitude  State Name  Month  Year  \n",
       "0  28.422966  76.912324     Haryana  April  2018  \n",
       "1  11.158358  77.301897  Tamil Nadu  April  2018  \n",
       "2  28.422931  76.912253     Haryana  April  2018  \n",
       "3  28.422947  76.912260     Haryana  April  2018  \n",
       "4  25.625990  85.094294       Bihar  April  2018  "
      ]
     },
     "execution_count": 126,
     "metadata": {},
     "output_type": "execute_result"
    }
   ],
   "source": [
    "df = pd.read_excel(os.path.join(data_path, \"final_data.xlsx\"))\n",
    "df.head()"
   ]
  },
  {
   "cell_type": "markdown",
   "metadata": {
    "colab_type": "text",
    "id": "NenV0UeuIdPv"
   },
   "source": [
    "We notice that the data contains majorly categorical data both nominal and ordinal. The only continuous quantitative data attribute is `Latitude` and `Longitude`. The rest of the data attributes can be catagorized as follows:\n",
    "* Operator - Ordinal\n",
    "* Indoor_Outdoor_Travelling - Ordinal\n",
    "* Network Type - Ordinal\n",
    "* Rating - Nominal\n",
    "* Call Drop Category - Nominal\n",
    "* State Name - Ordinal\n",
    "* Month - Ordinal\n",
    "* Year - Nominal"
   ]
  },
  {
   "cell_type": "markdown",
   "metadata": {},
   "source": [
    "The call quality data was collected for three different environments - Indoor, Outdoor and Travelling. The cell below lists the number of records collected for each environment. The figure shows that most of the collected data is from indoor environments."
   ]
  },
  {
   "cell_type": "code",
   "execution_count": 127,
   "metadata": {},
   "outputs": [
    {
     "name": "stdout",
     "output_type": "stream",
     "text": [
      "Indoor        505623\n",
      "Outdoor       187835\n",
      "Travelling    108670\n",
      "Name: Indoor_Outdoor_Travelling, dtype: int64\n"
     ]
    },
    {
     "data": {
      "image/png": "[encoded data removed]",
      "text/plain": [
       "<Figure size 432x288 with 1 Axes>"
      ]
     },
     "metadata": {},
     "output_type": "display_data"
    }
   ],
   "source": [
    "environment_counts = df['Indoor_Outdoor_Travelling'].value_counts()\n",
    "print(environment_counts)\n",
    "f, axes = plt.subplots(1,1)\n",
    "env_df = dict(environment_counts)\n",
    "\n",
    "axes.pie(df['Indoor_Outdoor_Travelling'].value_counts().values)\n",
    "percentages = df['Indoor_Outdoor_Travelling'].value_counts().values / sum(df['Indoor_Outdoor_Travelling'].value_counts().values) *100\n",
    "labels = ['{0} -> {1:1.2f}%'.format(i,j) for i,j in zip(env_df.keys(),percentages)]\n",
    "axes.legend(labels = labels ,loc = (0.7,0.6))\n",
    "plt.savefig(os.path.join(plots_path, 'in_out_pie.png'))"
   ]
  },
  {
   "cell_type": "markdown",
   "metadata": {},
   "source": [
    "The distribution of network types can be seen below"
   ]
  },
  {
   "cell_type": "code",
   "execution_count": 128,
   "metadata": {},
   "outputs": [
    {
     "name": "stdout",
     "output_type": "stream",
     "text": [
      "4G         504797\n",
      "3G         146627\n",
      "Unknown    117214\n",
      "2G          35947\n",
      "Name: Network Type, dtype: int64\n"
     ]
    },
    {
     "data": {
      "image/png": "[encoded data removed]",
      "text/plain": [
       "<Figure size 432x288 with 1 Axes>"
      ]
     },
     "metadata": {},
     "output_type": "display_data"
    }
   ],
   "source": [
    "network_counts = df['Network Type'].value_counts()\n",
    "print(network_counts)\n",
    "f, axes = plt.subplots(1,1)\n",
    "\n",
    "network_df = dict(network_counts)\n",
    "axes.pie(df['Network Type'].value_counts().values)\n",
    "percentages = df['Network Type'].value_counts().values / sum(df['Network Type'].value_counts().values) *100\n",
    "labels = ['{0} -> {1:1.2f}%'.format(i,j) for i,j in zip(network_df.keys(),percentages)]\n",
    "axes.legend(labels = labels ,loc = (0.7,0.6))\n",
    "plt.savefig(os.path.join(plots_path, 'network_pie.png'))"
   ]
  },
  {
   "cell_type": "markdown",
   "metadata": {
    "colab_type": "text",
    "id": "hIhwXdz5IdPx"
   },
   "source": [
    "### 2. Data Preprocessing"
   ]
  },
  {
   "cell_type": "markdown",
   "metadata": {
    "colab_type": "text",
    "id": "WCOCvYCWIdQG"
   },
   "source": [
    "#### (a) NA Handling\n",
    "\n",
    "Below we can see that the dataset contains many NA values. Owing to the type of data, the NA values cannot be assumed or given a value as:\n",
    "* The data attribute having NA is a catagorical values\n",
    "* NA values of state do not have coordinates provided as well which makes it not possible to pinpoint their location as all the operators present in the database are distributed throughout India.\n",
    "\n",
    "We therefore decide to remove the NA containing rows."
   ]
  },
  {
   "cell_type": "code",
   "execution_count": 129,
   "metadata": {
    "colab": {},
    "colab_type": "code",
    "id": "rQioOjGfIdQH",
    "outputId": "f7181d82-eeb6-447f-9b37-82ff7e21b03c"
   },
   "outputs": [
    {
     "data": {
      "text/plain": [
       "Operator                          0\n",
       "Indoor_Outdoor_Travelling      2457\n",
       "Network Type                      0\n",
       "Rating                            0\n",
       "Call Drop Category                0\n",
       "Latitude                          0\n",
       "Longitude                         0\n",
       "State Name                   268073\n",
       "Month                             0\n",
       "Year                              0\n",
       "dtype: int64"
      ]
     },
     "execution_count": 129,
     "metadata": {},
     "output_type": "execute_result"
    }
   ],
   "source": [
    "len(df) - df.count()"
   ]
  },
  {
   "cell_type": "code",
   "execution_count": 130,
   "metadata": {
    "colab": {},
    "colab_type": "code",
    "id": "0ivUoiUhIdQM",
    "outputId": "f89cdaf2-1c53-4940-c296-86ed4a1ab09c"
   },
   "outputs": [
    {
     "data": {
      "text/plain": [
       "Operator                     0\n",
       "Indoor_Outdoor_Travelling    0\n",
       "Network Type                 0\n",
       "Rating                       0\n",
       "Call Drop Category           0\n",
       "Latitude                     0\n",
       "Longitude                    0\n",
       "State Name                   0\n",
       "Month                        0\n",
       "Year                         0\n",
       "dtype: int64"
      ]
     },
     "execution_count": 130,
     "metadata": {},
     "output_type": "execute_result"
    }
   ],
   "source": [
    "df = df.dropna()\n",
    "df = df.reset_index(drop=True)\n",
    "len(df) - df.count()"
   ]
  },
  {
   "cell_type": "code",
   "execution_count": 131,
   "metadata": {
    "colab": {},
    "colab_type": "code",
    "id": "6VJLfmv3IdQX",
    "outputId": "0b67bb8a-f78b-4407-ffb3-dbe27168a7ba"
   },
   "outputs": [
    {
     "name": "stdout",
     "output_type": "stream",
     "text": [
      "RJio        224263\n",
      "Airtel      120823\n",
      "Vodafone     94171\n",
      "BSNL         45585\n",
      "Idea         44137\n",
      "MTNL          3163\n",
      "Tata          1368\n",
      "Other          703\n",
      "RComm          339\n",
      "Telenor        155\n",
      "Aircel          42\n",
      "Name: Operator, dtype: int64\n",
      "====================================\n",
      "Indoor        332520\n",
      "Outdoor       124166\n",
      "Travelling     78063\n",
      "Name: Indoor_Outdoor_Travelling, dtype: int64\n",
      "====================================\n",
      "Maharashtra       115086\n",
      "Uttar Pradesh      43121\n",
      "West Bengal        42794\n",
      "Gujarat            38227\n",
      "Karnataka          31698\n",
      "                   ...  \n",
      "Rio de Janeiro         1\n",
      "West Java              1\n",
      "Chisinau               1\n",
      "???????                1\n",
      "Lower Saxony           1\n",
      "Name: State Name, Length: 72, dtype: int64\n"
     ]
    }
   ],
   "source": [
    "print(df['Operator'].value_counts())\n",
    "print('====================================')\n",
    "print(df['Indoor_Outdoor_Travelling'].value_counts())\n",
    "print('====================================')\n",
    "print(df['State Name'].value_counts())"
   ]
  },
  {
   "cell_type": "markdown",
   "metadata": {},
   "source": [
    "#### (b) Data Aggregation\n",
    "\n",
    "The data contains the following mobile service operators. The function `value_counts()` has been used to generate a list of the unique operators in the dataset along with the number of records for each operator. From the chart, it can be seen that Reliance Jio, Airtel and Vodafone account for most of the data with BSNL and Idea making up a smaller portion."
   ]
  },
  {
   "cell_type": "code",
   "execution_count": 132,
   "metadata": {
    "colab": {},
    "colab_type": "code",
    "id": "bwGz3S24IdPy",
    "outputId": "60809cdc-b85c-46fb-cf5a-861d2cf920fb"
   },
   "outputs": [
    {
     "data": {
      "text/plain": [
       "RJio        224263\n",
       "Airtel      120823\n",
       "Vodafone     94171\n",
       "BSNL         45585\n",
       "Idea         44137\n",
       "MTNL          3163\n",
       "Tata          1368\n",
       "Other          703\n",
       "RComm          339\n",
       "Telenor        155\n",
       "Aircel          42\n",
       "Name: Operator, dtype: int64"
      ]
     },
     "execution_count": 132,
     "metadata": {},
     "output_type": "execute_result"
    }
   ],
   "source": [
    "df['Operator'].value_counts()"
   ]
  },
  {
   "cell_type": "markdown",
   "metadata": {
    "colab_type": "text",
    "id": "9gxSTY_FIdP4"
   },
   "source": [
    "Because the counts of 'RComm', 'Telenor', and 'Aircel' and very small for any valuable analysis, they have been clubbed with 'Other'. "
   ]
  },
  {
   "cell_type": "code",
   "execution_count": 133,
   "metadata": {
    "colab": {},
    "colab_type": "code",
    "id": "De6TgtE7IdP5",
    "outputId": "15680038-8230-415e-9242-e434ee4f7f3b"
   },
   "outputs": [
    {
     "name": "stdout",
     "output_type": "stream",
     "text": [
      "RJio        224263\n",
      "Airtel      120823\n",
      "Vodafone     94171\n",
      "BSNL         45585\n",
      "Idea         44137\n",
      "MTNL          3163\n",
      "Tata          1368\n",
      "Other         1239\n",
      "Name: Operator, dtype: int64\n"
     ]
    },
    {
     "data": {
      "image/png": "[encoded data removed]",
      "text/plain": [
       "<Figure size 432x288 with 1 Axes>"
      ]
     },
     "metadata": {},
     "output_type": "display_data"
    }
   ],
   "source": [
    "df = df.replace(to_replace = ['RComm', 'Telenor', 'Aircel'], value = 'Other')\n",
    "print(df['Operator'].value_counts())\n",
    "\n",
    "operator_df = dict(df['Operator'].value_counts())\n",
    "\n",
    "f, axes = plt.subplots(1,1)\n",
    "\n",
    "# df['Operator'].value_counts().plot(kind='pie',ax = axes)\n",
    "axes.pie(df['Operator'].value_counts().values)\n",
    "percentages = df['Operator'].value_counts().values / sum(df['Operator'].value_counts().values) *100\n",
    "labels = ['{0} -> {1:1.2f}%'.format(i,j) for i,j in zip(operator_df.keys(),percentages)]\n",
    "axes.legend(labels =labels ,loc = (0.7,0.6))\n",
    "plt.savefig(os.path.join(plots_path, 'Operator_pie.png'))"
   ]
  },
  {
   "cell_type": "markdown",
   "metadata": {},
   "source": [
    "Similarly, states with counts less than 50 have been clubbed into the category 'Other'"
   ]
  },
  {
   "cell_type": "code",
   "execution_count": 134,
   "metadata": {},
   "outputs": [
    {
     "data": {
      "text/plain": [
       "Maharashtra                    115086\n",
       "Uttar Pradesh                   43121\n",
       "West Bengal                     42794\n",
       "Gujarat                         38227\n",
       "Karnataka                       31698\n",
       "Telangana                       31187\n",
       "Tamil Nadu                      30413\n",
       "N/A-1                           29000\n",
       "NCT                             27295\n",
       "Rajasthan                       24531\n",
       "Andhra Pradesh                  16438\n",
       "Kerala                          16411\n",
       "Haryana                         15871\n",
       "Odisha                          14780\n",
       "Bihar                           12722\n",
       "Madhya Pradesh                  10718\n",
       "Uttarakhand                      6503\n",
       "Punjab                           5949\n",
       "Chhattisgarh                     4836\n",
       "Jharkhand                        3767\n",
       "Assam                            3442\n",
       "Delhi                            1815\n",
       "Goa                              1697\n",
       "Chandigarh                       1657\n",
       "Himachal Pradesh                 1615\n",
       "Meghalaya                        1057\n",
       "Kashmir                           471\n",
       "Dadra and Nagar Haveli            350\n",
       "Other                             341\n",
       "Andaman and Nicobar Islands       272\n",
       "Manipur                           217\n",
       "Pondicherry                       184\n",
       "Tripura                           156\n",
       "Daman and Diu                     128\n",
       "Name: State Name, dtype: int64"
      ]
     },
     "execution_count": 134,
     "metadata": {},
     "output_type": "execute_result"
    }
   ],
   "source": [
    "df['State Name'].value_counts()\n",
    "state_names = df['State Name'].unique()\n",
    "for state in state_names:\n",
    "    if len(df[df['State Name'] == state])<50:\n",
    "        df = df.replace(to_replace=state, value='Other')\n",
    "df['State Name'].value_counts()"
   ]
  },
  {
   "cell_type": "markdown",
   "metadata": {},
   "source": [
    "####  (c) Normalization\n",
    "\n",
    "The attributes \"Latitude\" and \"Longitude\" have been standardized by subtracting the mean and dividing the standard deviation."
   ]
  },
  {
   "cell_type": "code",
   "execution_count": 135,
   "metadata": {},
   "outputs": [],
   "source": [
    "df['Latitude'] = (df['Latitude'] - df['Latitude'].mean())/df['Latitude'].std()\n",
    "df['Longitude'] = (df['Longitude'] - df['Longitude'].mean())/df['Longitude'].std()"
   ]
  },
  {
   "cell_type": "markdown",
   "metadata": {},
   "source": [
    "# Data Analysis"
   ]
  },
  {
   "cell_type": "markdown",
   "metadata": {},
   "source": [
    "## (a) Association Rule Mining - Apriori Algorithm"
   ]
  },
  {
   "cell_type": "markdown",
   "metadata": {},
   "source": [
    "Preparing data for running Apriori algorithm"
   ]
  },
  {
   "cell_type": "code",
   "execution_count": 178,
   "metadata": {},
   "outputs": [],
   "source": [
    "data = df.drop(columns=['Latitude', 'Longitude', 'Month', 'Year', 'Rating'])\n",
    "data = data.drop(data[data['Network Type'] == 'Unknown'].index)\n",
    "data = data.drop(data[data['State Name'] == 'Other'].index)\n",
    "data = data.drop(data[data['State Name'] == 'N/A-1' ].index)\n",
    "data.to_csv(os.path.join(data_path, 'apriori.csv'), index=False)"
   ]
  },
  {
   "cell_type": "code",
   "execution_count": 179,
   "metadata": {},
   "outputs": [],
   "source": [
    "data = loadData(os.path.join(data_path, 'apriori.csv'))\n",
    "freqSet = defaultdict(int)\n",
    "largeSet = dict()"
   ]
  },
  {
   "cell_type": "markdown",
   "metadata": {},
   "source": [
    "#### 1. Generate frequent 1-itemsets"
   ]
  },
  {
   "cell_type": "code",
   "execution_count": 180,
   "metadata": {},
   "outputs": [],
   "source": [
    "# Parameters\n",
    "minSupport = 0.3\n",
    "minConfidence = 0.7\n",
    "\n",
    "itemSet, transactionList = generateOneItemsets(data)\n",
    "oneCSet = returnItemsWithMinSupport(itemSet,transactionList,minSupport,freqSet)"
   ]
  },
  {
   "cell_type": "markdown",
   "metadata": {},
   "source": [
    "#### 2. Generate frequent k-itemsets"
   ]
  },
  {
   "cell_type": "code",
   "execution_count": 181,
   "metadata": {},
   "outputs": [],
   "source": [
    "currentLSet = oneCSet\n",
    "k = 2\n",
    "\n",
    "while(currentLSet != set([])):\n",
    "        \n",
    "    largeSet[k-1] = currentLSet\n",
    "        \n",
    "    # Generate k-itemsets\n",
    "    currentLSet = joinSet(currentLSet, k)\n",
    "\n",
    "    # Get frequent k-itemsets\n",
    "    currentCSet = returnItemsWithMinSupport(currentLSet,transactionList,minSupport,freqSet)\n",
    "        \n",
    "    currentLSet = currentCSet\n",
    "    k = k + 1"
   ]
  },
  {
   "cell_type": "markdown",
   "metadata": {},
   "source": [
    "The generated frequent itemsets are: "
   ]
  },
  {
   "cell_type": "code",
   "execution_count": 182,
   "metadata": {},
   "outputs": [
    {
     "name": "stdout",
     "output_type": "stream",
     "text": [
      "Itemset:  ('RJio',)  Support:  0.4802776857359344\n",
      "Itemset:  ('4G',)  Support:  0.744832204501271\n",
      "Itemset:  ('Satisfactory',)  Support:  0.6817805809990106\n",
      "Itemset:  ('Indoor',)  Support:  0.6167431708170458\n",
      "Itemset:  ('Indoor', 'Satisfactory')  Support:  0.419976504227617\n",
      "Itemset:  ('4G', 'RJio')  Support:  0.47667453720974956\n",
      "Itemset:  ('4G', 'Satisfactory')  Support:  0.5188649734571921\n",
      "Itemset:  ('Satisfactory', 'RJio')  Support:  0.34346694719475773\n",
      "Itemset:  ('4G', 'Indoor')  Support:  0.44761300099405193\n",
      "Itemset:  ('4G', 'Indoor', 'Satisfactory')  Support:  0.3141991857579472\n",
      "Itemset:  ('4G', 'Satisfactory', 'RJio')  Support:  0.3410733443474594\n"
     ]
    }
   ],
   "source": [
    "frequent_itemsets = []\n",
    "\n",
    "# Loop to store frequent itemsets\n",
    "for key, value in largeSet.items():\n",
    "    frequent_itemsets.extend([(tuple(item), getSupport(item, freqSet, transactionList)) for item in value])\n",
    "\n",
    "for item in frequent_itemsets:\n",
    "    print(\"Itemset: \", item[0], \" Support: \", item[1])"
   ]
  },
  {
   "cell_type": "markdown",
   "metadata": {},
   "source": [
    "#### 3. Generate association rules from frequent itemsets"
   ]
  },
  {
   "cell_type": "code",
   "execution_count": 183,
   "metadata": {},
   "outputs": [],
   "source": [
    "association_rules = []\n",
    "for key, value in list(largeSet.items())[1:]:\n",
    "    for item in value:\n",
    "        _subsets = map(frozenset, [x for x in subsets(item)])\n",
    "        for element in _subsets:\n",
    "            remain = item.difference(element)\n",
    "            if len(remain) > 0:\n",
    "                confidence = getSupport(item, freqSet, transactionList)/getSupport(element, freqSet, transactionList)\n",
    "                if confidence >= minConfidence:\n",
    "                    association_rules.append(((tuple(element), tuple(remain)),confidence))"
   ]
  },
  {
   "cell_type": "markdown",
   "metadata": {},
   "source": [
    "The generated association rules are:"
   ]
  },
  {
   "cell_type": "code",
   "execution_count": 184,
   "metadata": {},
   "outputs": [
    {
     "name": "stdout",
     "output_type": "stream",
     "text": [
      "('RJio',)  ->  ('4G',)  Confidence:  0.9924977806939673\n",
      "('Satisfactory',)  ->  ('4G',)  Confidence:  0.7610439310208881\n",
      "('RJio',)  ->  ('Satisfactory',)  Confidence:  0.7151424215523564\n",
      "('Indoor',)  ->  ('4G',)  Confidence:  0.7257688810742169\n",
      "('4G', 'Indoor')  ->  ('Satisfactory',)  Confidence:  0.7019438333117639\n",
      "('Indoor', 'Satisfactory')  ->  ('4G',)  Confidence:  0.7481351518361582\n",
      "('RJio',)  ->  ('4G', 'Satisfactory')  Confidence:  0.7101586321355514\n",
      "('4G', 'RJio')  ->  ('Satisfactory',)  Confidence:  0.7155266701342136\n",
      "('RJio', 'Satisfactory')  ->  ('4G',)  Confidence:  0.9930310533026601\n"
     ]
    }
   ],
   "source": [
    "for rule in association_rules:\n",
    "    print(rule[0][0], \" -> \", rule[0][1], \" Confidence: \", rule[1])"
   ]
  },
  {
   "cell_type": "markdown",
   "metadata": {},
   "source": [
    "## (b) Chi Square tests\n",
    "\n",
    "Chi square tests a sample of the given data to conduct a hypothesis testing wherein:\n",
    "\n",
    "$H_0$ : The given distribution between two variables follow uniform distribution\n",
    "\n",
    "$H_1$ : The given distribution between two variables do not follow uniform distribution. i.e. there exists a correlated relation between them.\n",
    "\n",
    "To conduct a chi square analysis first a crosstabulation of both selected variables are created as shown below.\n",
    "\n",
    "\n",
    "\n",
    "\n",
    "\n"
   ]
  },
  {
   "cell_type": "code",
   "execution_count": 143,
   "metadata": {},
   "outputs": [
    {
     "data": {
      "text/html": [
       "<div>\n",
       "<style scoped>\n",
       "    .dataframe tbody tr th:only-of-type {\n",
       "        vertical-align: middle;\n",
       "    }\n",
       "\n",
       "    .dataframe tbody tr th {\n",
       "        vertical-align: top;\n",
       "    }\n",
       "\n",
       "    .dataframe thead th {\n",
       "        text-align: right;\n",
       "    }\n",
       "</style>\n",
       "<table border=\"1\" class=\"dataframe\">\n",
       "  <thead>\n",
       "    <tr style=\"text-align: right;\">\n",
       "      <th></th>\n",
       "      <th>Operator</th>\n",
       "      <th>Indoor_Outdoor_Travelling</th>\n",
       "      <th>Network Type</th>\n",
       "      <th>Rating</th>\n",
       "      <th>Call Drop Category</th>\n",
       "      <th>Latitude</th>\n",
       "      <th>Longitude</th>\n",
       "      <th>State Name</th>\n",
       "      <th>Month</th>\n",
       "      <th>Year</th>\n",
       "    </tr>\n",
       "  </thead>\n",
       "  <tbody>\n",
       "    <tr>\n",
       "      <th>225949</th>\n",
       "      <td>RJio</td>\n",
       "      <td>Indoor</td>\n",
       "      <td>4G</td>\n",
       "      <td>4</td>\n",
       "      <td>Satisfactory</td>\n",
       "      <td>-2.833617</td>\n",
       "      <td>-4.036763</td>\n",
       "      <td>N/A-1</td>\n",
       "      <td>September</td>\n",
       "      <td>2018</td>\n",
       "    </tr>\n",
       "    <tr>\n",
       "      <th>180826</th>\n",
       "      <td>RJio</td>\n",
       "      <td>Indoor</td>\n",
       "      <td>4G</td>\n",
       "      <td>3</td>\n",
       "      <td>Poor Voice Quality</td>\n",
       "      <td>-1.160931</td>\n",
       "      <td>0.213453</td>\n",
       "      <td>Tamil Nadu</td>\n",
       "      <td>August</td>\n",
       "      <td>2018</td>\n",
       "    </tr>\n",
       "    <tr>\n",
       "      <th>484051</th>\n",
       "      <td>Vodafone</td>\n",
       "      <td>Indoor</td>\n",
       "      <td>4G</td>\n",
       "      <td>5</td>\n",
       "      <td>Satisfactory</td>\n",
       "      <td>0.372750</td>\n",
       "      <td>0.790367</td>\n",
       "      <td>West Bengal</td>\n",
       "      <td>October</td>\n",
       "      <td>2019</td>\n",
       "    </tr>\n",
       "    <tr>\n",
       "      <th>487457</th>\n",
       "      <td>Airtel</td>\n",
       "      <td>Indoor</td>\n",
       "      <td>4G</td>\n",
       "      <td>1</td>\n",
       "      <td>Poor Voice Quality</td>\n",
       "      <td>-0.939725</td>\n",
       "      <td>0.348770</td>\n",
       "      <td>Tamil Nadu</td>\n",
       "      <td>October</td>\n",
       "      <td>2019</td>\n",
       "    </tr>\n",
       "    <tr>\n",
       "      <th>470901</th>\n",
       "      <td>Vodafone</td>\n",
       "      <td>Indoor</td>\n",
       "      <td>3G</td>\n",
       "      <td>4</td>\n",
       "      <td>Satisfactory</td>\n",
       "      <td>-0.931267</td>\n",
       "      <td>0.349728</td>\n",
       "      <td>Tamil Nadu</td>\n",
       "      <td>September</td>\n",
       "      <td>2019</td>\n",
       "    </tr>\n",
       "  </tbody>\n",
       "</table>\n",
       "</div>"
      ],
      "text/plain": [
       "        Operator Indoor_Outdoor_Travelling Network Type  Rating  \\\n",
       "225949      RJio                    Indoor           4G       4   \n",
       "180826      RJio                    Indoor           4G       3   \n",
       "484051  Vodafone                    Indoor           4G       5   \n",
       "487457    Airtel                    Indoor           4G       1   \n",
       "470901  Vodafone                    Indoor           3G       4   \n",
       "\n",
       "        Call Drop Category  Latitude  Longitude   State Name      Month  Year  \n",
       "225949        Satisfactory -2.833617  -4.036763        N/A-1  September  2018  \n",
       "180826  Poor Voice Quality -1.160931   0.213453   Tamil Nadu     August  2018  \n",
       "484051        Satisfactory  0.372750   0.790367  West Bengal    October  2019  \n",
       "487457  Poor Voice Quality -0.939725   0.348770   Tamil Nadu    October  2019  \n",
       "470901        Satisfactory -0.931267   0.349728   Tamil Nadu  September  2019  "
      ]
     },
     "execution_count": 143,
     "metadata": {},
     "output_type": "execute_result"
    }
   ],
   "source": [
    "sample = df.sample(frac = 0.01, random_state = 1)\n",
    "sample.head()"
   ]
  },
  {
   "cell_type": "code",
   "execution_count": 144,
   "metadata": {},
   "outputs": [
    {
     "data": {
      "text/html": [
       "<div>\n",
       "<style scoped>\n",
       "    .dataframe tbody tr th:only-of-type {\n",
       "        vertical-align: middle;\n",
       "    }\n",
       "\n",
       "    .dataframe tbody tr th {\n",
       "        vertical-align: top;\n",
       "    }\n",
       "\n",
       "    .dataframe thead th {\n",
       "        text-align: right;\n",
       "    }\n",
       "</style>\n",
       "<table border=\"1\" class=\"dataframe\">\n",
       "  <thead>\n",
       "    <tr style=\"text-align: right;\">\n",
       "      <th>Call Drop Category</th>\n",
       "      <th>Call Dropped</th>\n",
       "      <th>Poor Network</th>\n",
       "      <th>Poor Voice Quality</th>\n",
       "      <th>Satisfactory</th>\n",
       "    </tr>\n",
       "    <tr>\n",
       "      <th>Indoor_Outdoor_Travelling</th>\n",
       "      <th></th>\n",
       "      <th></th>\n",
       "      <th></th>\n",
       "      <th></th>\n",
       "    </tr>\n",
       "  </thead>\n",
       "  <tbody>\n",
       "    <tr>\n",
       "      <th>Indoor</th>\n",
       "      <td>316</td>\n",
       "      <td>42</td>\n",
       "      <td>690</td>\n",
       "      <td>2196</td>\n",
       "    </tr>\n",
       "    <tr>\n",
       "      <th>Outdoor</th>\n",
       "      <td>76</td>\n",
       "      <td>28</td>\n",
       "      <td>330</td>\n",
       "      <td>876</td>\n",
       "    </tr>\n",
       "    <tr>\n",
       "      <th>Travelling</th>\n",
       "      <td>47</td>\n",
       "      <td>7</td>\n",
       "      <td>215</td>\n",
       "      <td>524</td>\n",
       "    </tr>\n",
       "  </tbody>\n",
       "</table>\n",
       "</div>"
      ],
      "text/plain": [
       "Call Drop Category         Call Dropped  Poor Network  Poor Voice Quality  \\\n",
       "Indoor_Outdoor_Travelling                                                   \n",
       "Indoor                              316            42                 690   \n",
       "Outdoor                              76            28                 330   \n",
       "Travelling                           47             7                 215   \n",
       "\n",
       "Call Drop Category         Satisfactory  \n",
       "Indoor_Outdoor_Travelling                \n",
       "Indoor                             2196  \n",
       "Outdoor                             876  \n",
       "Travelling                          524  "
      ]
     },
     "execution_count": 144,
     "metadata": {},
     "output_type": "execute_result"
    }
   ],
   "source": [
    "from scipy.stats import chi2_contingency\n",
    "\n",
    "cross_tab = pd.crosstab(sample['Indoor_Outdoor_Travelling'],sample['Call Drop Category'])\n",
    "cross_tab"
   ]
  },
  {
   "cell_type": "markdown",
   "metadata": {},
   "source": [
    "Once a cross tab is recieved chi square analysis is conducted to give us statistical checkpoints for drawing conclusions. \n",
    "As seen here, a low p-value suggests that the null hypothesis is rejected and the variables have a relationship with each other.\n",
    "\n"
   ]
  },
  {
   "cell_type": "code",
   "execution_count": 145,
   "metadata": {},
   "outputs": [
    {
     "name": "stdout",
     "output_type": "stream",
     "text": [
      "1.0855742081027125e-07\n"
     ]
    }
   ],
   "source": [
    "[chi_val,p,dof,ef] = chi2_contingency(cross_tab)\n",
    "print(p) #lower means reject null - relation exists"
   ]
  },
  {
   "cell_type": "code",
   "execution_count": 146,
   "metadata": {},
   "outputs": [
    {
     "data": {
      "text/html": [
       "<div>\n",
       "<style scoped>\n",
       "    .dataframe tbody tr th:only-of-type {\n",
       "        vertical-align: middle;\n",
       "    }\n",
       "\n",
       "    .dataframe tbody tr th {\n",
       "        vertical-align: top;\n",
       "    }\n",
       "\n",
       "    .dataframe thead th {\n",
       "        text-align: right;\n",
       "    }\n",
       "</style>\n",
       "<table border=\"1\" class=\"dataframe\">\n",
       "  <thead>\n",
       "    <tr style=\"text-align: right;\">\n",
       "      <th>Call Drop Category</th>\n",
       "      <th>Call Dropped</th>\n",
       "      <th>Poor Network</th>\n",
       "      <th>Poor Voice Quality</th>\n",
       "      <th>Satisfactory</th>\n",
       "    </tr>\n",
       "    <tr>\n",
       "      <th>Network Type</th>\n",
       "      <th></th>\n",
       "      <th></th>\n",
       "      <th></th>\n",
       "      <th></th>\n",
       "    </tr>\n",
       "  </thead>\n",
       "  <tbody>\n",
       "    <tr>\n",
       "      <th>2G</th>\n",
       "      <td>14</td>\n",
       "      <td>6</td>\n",
       "      <td>65</td>\n",
       "      <td>120</td>\n",
       "    </tr>\n",
       "    <tr>\n",
       "      <th>3G</th>\n",
       "      <td>104</td>\n",
       "      <td>14</td>\n",
       "      <td>218</td>\n",
       "      <td>607</td>\n",
       "    </tr>\n",
       "    <tr>\n",
       "      <th>4G</th>\n",
       "      <td>267</td>\n",
       "      <td>45</td>\n",
       "      <td>773</td>\n",
       "      <td>2319</td>\n",
       "    </tr>\n",
       "    <tr>\n",
       "      <th>Unknown</th>\n",
       "      <td>54</td>\n",
       "      <td>12</td>\n",
       "      <td>179</td>\n",
       "      <td>550</td>\n",
       "    </tr>\n",
       "  </tbody>\n",
       "</table>\n",
       "</div>"
      ],
      "text/plain": [
       "Call Drop Category  Call Dropped  Poor Network  Poor Voice Quality  \\\n",
       "Network Type                                                         \n",
       "2G                            14             6                  65   \n",
       "3G                           104            14                 218   \n",
       "4G                           267            45                 773   \n",
       "Unknown                       54            12                 179   \n",
       "\n",
       "Call Drop Category  Satisfactory  \n",
       "Network Type                      \n",
       "2G                           120  \n",
       "3G                           607  \n",
       "4G                          2319  \n",
       "Unknown                      550  "
      ]
     },
     "execution_count": 146,
     "metadata": {},
     "output_type": "execute_result"
    }
   ],
   "source": [
    "cross_tab2 = pd.crosstab(sample['Network Type'],sample['Call Drop Category'])\n",
    "cross_tab2"
   ]
  },
  {
   "cell_type": "code",
   "execution_count": 147,
   "metadata": {},
   "outputs": [
    {
     "name": "stdout",
     "output_type": "stream",
     "text": [
      "0.0014833997461713077\n"
     ]
    }
   ],
   "source": [
    "[chi_val,p,dof,ef] = chi2_contingency(cross_tab2)\n",
    "print(p)"
   ]
  },
  {
   "cell_type": "code",
   "execution_count": 148,
   "metadata": {},
   "outputs": [
    {
     "data": {
      "text/html": [
       "<div>\n",
       "<style scoped>\n",
       "    .dataframe tbody tr th:only-of-type {\n",
       "        vertical-align: middle;\n",
       "    }\n",
       "\n",
       "    .dataframe tbody tr th {\n",
       "        vertical-align: top;\n",
       "    }\n",
       "\n",
       "    .dataframe thead th {\n",
       "        text-align: right;\n",
       "    }\n",
       "</style>\n",
       "<table border=\"1\" class=\"dataframe\">\n",
       "  <thead>\n",
       "    <tr style=\"text-align: right;\">\n",
       "      <th>Call Drop Category</th>\n",
       "      <th>Call Dropped</th>\n",
       "      <th>Poor Network</th>\n",
       "      <th>Poor Voice Quality</th>\n",
       "      <th>Satisfactory</th>\n",
       "    </tr>\n",
       "    <tr>\n",
       "      <th>Operator</th>\n",
       "      <th></th>\n",
       "      <th></th>\n",
       "      <th></th>\n",
       "      <th></th>\n",
       "    </tr>\n",
       "  </thead>\n",
       "  <tbody>\n",
       "    <tr>\n",
       "      <th>Airtel</th>\n",
       "      <td>149</td>\n",
       "      <td>16</td>\n",
       "      <td>338</td>\n",
       "      <td>765</td>\n",
       "    </tr>\n",
       "    <tr>\n",
       "      <th>BSNL</th>\n",
       "      <td>36</td>\n",
       "      <td>6</td>\n",
       "      <td>95</td>\n",
       "      <td>317</td>\n",
       "    </tr>\n",
       "    <tr>\n",
       "      <th>Idea</th>\n",
       "      <td>30</td>\n",
       "      <td>8</td>\n",
       "      <td>120</td>\n",
       "      <td>237</td>\n",
       "    </tr>\n",
       "    <tr>\n",
       "      <th>RJio</th>\n",
       "      <td>144</td>\n",
       "      <td>37</td>\n",
       "      <td>487</td>\n",
       "      <td>1589</td>\n",
       "    </tr>\n",
       "    <tr>\n",
       "      <th>Vodafone</th>\n",
       "      <td>77</td>\n",
       "      <td>8</td>\n",
       "      <td>185</td>\n",
       "      <td>655</td>\n",
       "    </tr>\n",
       "  </tbody>\n",
       "</table>\n",
       "</div>"
      ],
      "text/plain": [
       "Call Drop Category  Call Dropped  Poor Network  Poor Voice Quality  \\\n",
       "Operator                                                             \n",
       "Airtel                       149            16                 338   \n",
       "BSNL                          36             6                  95   \n",
       "Idea                          30             8                 120   \n",
       "RJio                         144            37                 487   \n",
       "Vodafone                      77             8                 185   \n",
       "\n",
       "Call Drop Category  Satisfactory  \n",
       "Operator                          \n",
       "Airtel                       765  \n",
       "BSNL                         317  \n",
       "Idea                         237  \n",
       "RJio                        1589  \n",
       "Vodafone                     655  "
      ]
     },
     "execution_count": 148,
     "metadata": {},
     "output_type": "execute_result"
    }
   ],
   "source": [
    "cross_tab3 = pd.crosstab(sample['Operator'],sample['Call Drop Category'])\n",
    "cross_tab3 = cross_tab3.drop(['Other','Tata','MTNL'])\n",
    "cross_tab3"
   ]
  },
  {
   "cell_type": "code",
   "execution_count": 149,
   "metadata": {},
   "outputs": [
    {
     "name": "stdout",
     "output_type": "stream",
     "text": [
      "7.131498332863261e-11\n"
     ]
    }
   ],
   "source": [
    "[chi_val,p,dof,ef] = chi2_contingency(cross_tab3)\n",
    "print(p)"
   ]
  },
  {
   "cell_type": "markdown",
   "metadata": {},
   "source": [
    "## (c) K Nearest Neighbor Classification\n",
    "\n",
    "As the volume of the data is quite large, the KNN classifier implemented is shown on a small sample of data. For further analysis sklearn's KNN classifier is used to conduct the classification as the library implements a graph based optimization instead of iterative procedure to find K nearest neighbors.\n",
    "\n",
    "Below, a fraction of 1% of the data is taken"
   ]
  },
  {
   "cell_type": "code",
   "execution_count": 150,
   "metadata": {},
   "outputs": [
    {
     "data": {
      "text/html": [
       "<div>\n",
       "<style scoped>\n",
       "    .dataframe tbody tr th:only-of-type {\n",
       "        vertical-align: middle;\n",
       "    }\n",
       "\n",
       "    .dataframe tbody tr th {\n",
       "        vertical-align: top;\n",
       "    }\n",
       "\n",
       "    .dataframe thead th {\n",
       "        text-align: right;\n",
       "    }\n",
       "</style>\n",
       "<table border=\"1\" class=\"dataframe\">\n",
       "  <thead>\n",
       "    <tr style=\"text-align: right;\">\n",
       "      <th></th>\n",
       "      <th>Operator</th>\n",
       "      <th>Indoor_Outdoor_Travelling</th>\n",
       "      <th>Network Type</th>\n",
       "      <th>Rating</th>\n",
       "      <th>Call Drop Category</th>\n",
       "      <th>Latitude</th>\n",
       "      <th>Longitude</th>\n",
       "      <th>State Name</th>\n",
       "      <th>Month</th>\n",
       "      <th>Year</th>\n",
       "    </tr>\n",
       "  </thead>\n",
       "  <tbody>\n",
       "    <tr>\n",
       "      <th>225949</th>\n",
       "      <td>RJio</td>\n",
       "      <td>Indoor</td>\n",
       "      <td>4G</td>\n",
       "      <td>4</td>\n",
       "      <td>Satisfactory</td>\n",
       "      <td>-2.833617</td>\n",
       "      <td>-4.036763</td>\n",
       "      <td>N/A-1</td>\n",
       "      <td>September</td>\n",
       "      <td>2018</td>\n",
       "    </tr>\n",
       "    <tr>\n",
       "      <th>180826</th>\n",
       "      <td>RJio</td>\n",
       "      <td>Indoor</td>\n",
       "      <td>4G</td>\n",
       "      <td>3</td>\n",
       "      <td>Poor Voice Quality</td>\n",
       "      <td>-1.160931</td>\n",
       "      <td>0.213453</td>\n",
       "      <td>Tamil Nadu</td>\n",
       "      <td>August</td>\n",
       "      <td>2018</td>\n",
       "    </tr>\n",
       "    <tr>\n",
       "      <th>484051</th>\n",
       "      <td>Vodafone</td>\n",
       "      <td>Indoor</td>\n",
       "      <td>4G</td>\n",
       "      <td>5</td>\n",
       "      <td>Satisfactory</td>\n",
       "      <td>0.372750</td>\n",
       "      <td>0.790367</td>\n",
       "      <td>West Bengal</td>\n",
       "      <td>October</td>\n",
       "      <td>2019</td>\n",
       "    </tr>\n",
       "    <tr>\n",
       "      <th>487457</th>\n",
       "      <td>Airtel</td>\n",
       "      <td>Indoor</td>\n",
       "      <td>4G</td>\n",
       "      <td>1</td>\n",
       "      <td>Poor Voice Quality</td>\n",
       "      <td>-0.939725</td>\n",
       "      <td>0.348770</td>\n",
       "      <td>Tamil Nadu</td>\n",
       "      <td>October</td>\n",
       "      <td>2019</td>\n",
       "    </tr>\n",
       "    <tr>\n",
       "      <th>470901</th>\n",
       "      <td>Vodafone</td>\n",
       "      <td>Indoor</td>\n",
       "      <td>3G</td>\n",
       "      <td>4</td>\n",
       "      <td>Satisfactory</td>\n",
       "      <td>-0.931267</td>\n",
       "      <td>0.349728</td>\n",
       "      <td>Tamil Nadu</td>\n",
       "      <td>September</td>\n",
       "      <td>2019</td>\n",
       "    </tr>\n",
       "  </tbody>\n",
       "</table>\n",
       "</div>"
      ],
      "text/plain": [
       "        Operator Indoor_Outdoor_Travelling Network Type  Rating  \\\n",
       "225949      RJio                    Indoor           4G       4   \n",
       "180826      RJio                    Indoor           4G       3   \n",
       "484051  Vodafone                    Indoor           4G       5   \n",
       "487457    Airtel                    Indoor           4G       1   \n",
       "470901  Vodafone                    Indoor           3G       4   \n",
       "\n",
       "        Call Drop Category  Latitude  Longitude   State Name      Month  Year  \n",
       "225949        Satisfactory -2.833617  -4.036763        N/A-1  September  2018  \n",
       "180826  Poor Voice Quality -1.160931   0.213453   Tamil Nadu     August  2018  \n",
       "484051        Satisfactory  0.372750   0.790367  West Bengal    October  2019  \n",
       "487457  Poor Voice Quality -0.939725   0.348770   Tamil Nadu    October  2019  \n",
       "470901        Satisfactory -0.931267   0.349728   Tamil Nadu  September  2019  "
      ]
     },
     "execution_count": 150,
     "metadata": {},
     "output_type": "execute_result"
    }
   ],
   "source": [
    "sample = df.sample(frac = 0.01, random_state = 1)\n",
    "sample.head()"
   ]
  },
  {
   "cell_type": "markdown",
   "metadata": {},
   "source": [
    "#### Removing unused features and dirty data"
   ]
  },
  {
   "cell_type": "code",
   "execution_count": 151,
   "metadata": {
    "scrolled": true
   },
   "outputs": [
    {
     "name": "stderr",
     "output_type": "stream",
     "text": [
      "D:\\Applications\\Anaconda3\\lib\\site-packages\\ipykernel_launcher.py:2: UserWarning: Boolean Series key will be reindexed to match DataFrame index.\n",
      "  \n"
     ]
    },
    {
     "data": {
      "text/html": [
       "<div>\n",
       "<style scoped>\n",
       "    .dataframe tbody tr th:only-of-type {\n",
       "        vertical-align: middle;\n",
       "    }\n",
       "\n",
       "    .dataframe tbody tr th {\n",
       "        vertical-align: top;\n",
       "    }\n",
       "\n",
       "    .dataframe thead th {\n",
       "        text-align: right;\n",
       "    }\n",
       "</style>\n",
       "<table border=\"1\" class=\"dataframe\">\n",
       "  <thead>\n",
       "    <tr style=\"text-align: right;\">\n",
       "      <th></th>\n",
       "      <th>Operator</th>\n",
       "      <th>Indoor_Outdoor_Travelling</th>\n",
       "      <th>Network Type</th>\n",
       "      <th>Call Drop Category</th>\n",
       "      <th>Latitude</th>\n",
       "      <th>Longitude</th>\n",
       "    </tr>\n",
       "  </thead>\n",
       "  <tbody>\n",
       "    <tr>\n",
       "      <th>484051</th>\n",
       "      <td>Vodafone</td>\n",
       "      <td>Indoor</td>\n",
       "      <td>4G</td>\n",
       "      <td>Satisfactory</td>\n",
       "      <td>0.372750</td>\n",
       "      <td>0.790367</td>\n",
       "    </tr>\n",
       "    <tr>\n",
       "      <th>112122</th>\n",
       "      <td>BSNL</td>\n",
       "      <td>Travelling</td>\n",
       "      <td>3G</td>\n",
       "      <td>Satisfactory</td>\n",
       "      <td>0.564175</td>\n",
       "      <td>0.234557</td>\n",
       "    </tr>\n",
       "    <tr>\n",
       "      <th>192049</th>\n",
       "      <td>RJio</td>\n",
       "      <td>Travelling</td>\n",
       "      <td>4G</td>\n",
       "      <td>Poor Voice Quality</td>\n",
       "      <td>1.174317</td>\n",
       "      <td>0.175349</td>\n",
       "    </tr>\n",
       "    <tr>\n",
       "      <th>203467</th>\n",
       "      <td>Vodafone</td>\n",
       "      <td>Indoor</td>\n",
       "      <td>2G</td>\n",
       "      <td>Satisfactory</td>\n",
       "      <td>1.163509</td>\n",
       "      <td>0.184593</td>\n",
       "    </tr>\n",
       "    <tr>\n",
       "      <th>511229</th>\n",
       "      <td>RJio</td>\n",
       "      <td>Outdoor</td>\n",
       "      <td>4G</td>\n",
       "      <td>Satisfactory</td>\n",
       "      <td>0.357859</td>\n",
       "      <td>0.785955</td>\n",
       "    </tr>\n",
       "  </tbody>\n",
       "</table>\n",
       "</div>"
      ],
      "text/plain": [
       "        Operator Indoor_Outdoor_Travelling Network Type  Call Drop Category  \\\n",
       "484051  Vodafone                    Indoor           4G        Satisfactory   \n",
       "112122      BSNL                Travelling           3G        Satisfactory   \n",
       "192049      RJio                Travelling           4G  Poor Voice Quality   \n",
       "203467  Vodafone                    Indoor           2G        Satisfactory   \n",
       "511229      RJio                   Outdoor           4G        Satisfactory   \n",
       "\n",
       "        Latitude  Longitude  \n",
       "484051  0.372750   0.790367  \n",
       "112122  0.564175   0.234557  \n",
       "192049  1.174317   0.175349  \n",
       "203467  1.163509   0.184593  \n",
       "511229  0.357859   0.785955  "
      ]
     },
     "execution_count": 151,
     "metadata": {},
     "output_type": "execute_result"
    }
   ],
   "source": [
    "sample = sample.drop(['Rating','Month','Year','State Name'],axis = 1);\n",
    "sample = sample.drop(sample[(sample.Latitude == -1) & (df.Longitude == -1)].index)\n",
    "sample = sample.drop(sample[(sample.Latitude <= 0) | (sample.Longitude <= 0)].index)\n",
    "sample.head()"
   ]
  },
  {
   "cell_type": "markdown",
   "metadata": {},
   "source": [
    "#### One-hot encoding categorical data"
   ]
  },
  {
   "cell_type": "code",
   "execution_count": 152,
   "metadata": {},
   "outputs": [],
   "source": [
    "sample['Operator'] = sample['Operator'].astype('category')\n",
    "sample['Indoor_Outdoor_Travelling'] = sample['Indoor_Outdoor_Travelling'].astype('category')\n",
    "sample['Network Type'] = sample['Network Type'].astype('category')\n",
    "sample2 = pd.get_dummies(sample)"
   ]
  },
  {
   "cell_type": "markdown",
   "metadata": {},
   "source": [
    "#### Feature and Target processing\n",
    "\n",
    "Once X and Y are defined, they are encoded and split into test and train datasets to conduct and validate classification."
   ]
  },
  {
   "cell_type": "code",
   "execution_count": 153,
   "metadata": {},
   "outputs": [],
   "source": [
    "Y = np.array(sample['Call Drop Category'])\n",
    "X = sample2.iloc[:,:-4]\n",
    "X = np.array(X)"
   ]
  },
  {
   "cell_type": "code",
   "execution_count": 154,
   "metadata": {},
   "outputs": [],
   "source": [
    "Y = labelEncode(Y)\n",
    "\n",
    "X_train, X_test, y_train, y_test = test_train_split(X,Y, p = 0.8)"
   ]
  },
  {
   "cell_type": "markdown",
   "metadata": {},
   "source": [
    "#### Model fitting and validation"
   ]
  },
  {
   "cell_type": "code",
   "execution_count": 155,
   "metadata": {},
   "outputs": [
    {
     "data": {
      "text/plain": [
       "0.7075268817204301"
      ]
     },
     "execution_count": 155,
     "metadata": {},
     "output_type": "execute_result"
    }
   ],
   "source": [
    "classifier = KNN(num_clusters= 5)\n",
    "classifier.fit(X_train,y_train)\n",
    "classifier.predict(X_test)\n",
    "classifier.score(X_test,y_test)"
   ]
  },
  {
   "cell_type": "markdown",
   "metadata": {},
   "source": [
    "Below, the majority of the dataset is used instead of a small sample. `sklearn` based KNN classifier is used here as the library uses graph based optimization which exponentially reduces computational strain of the method. The entire dataset has been used for classification."
   ]
  },
  {
   "cell_type": "code",
   "execution_count": 156,
   "metadata": {},
   "outputs": [
    {
     "name": "stderr",
     "output_type": "stream",
     "text": [
      "D:\\Applications\\Anaconda3\\lib\\site-packages\\ipykernel_launcher.py:3: UserWarning: Boolean Series key will be reindexed to match DataFrame index.\n",
      "  This is separate from the ipykernel package so we can avoid doing imports until\n"
     ]
    },
    {
     "name": "stdout",
     "output_type": "stream",
     "text": [
      "0.8160874230777654\n"
     ]
    }
   ],
   "source": [
    "sample = df.sample(frac = 1, random_state = 1)\n",
    "sample = sample.drop(['Rating','Month','Year','State Name'],axis = 1);\n",
    "sample = sample.drop(sample[(sample.Latitude == -1) & (df.Longitude == -1)].index)\n",
    "sample = sample.drop(sample[(sample.Latitude <= 0) | (sample.Longitude <= 0)].index)\n",
    "sample['Operator'] = sample['Operator'].astype('category')\n",
    "sample['Indoor_Outdoor_Travelling'] = sample['Indoor_Outdoor_Travelling'].astype('category')\n",
    "sample['Network Type'] = sample['Network Type'].astype('category')\n",
    "\n",
    "sample2 = pd.get_dummies(sample)\n",
    "\n",
    "Y = np.array(sample['Call Drop Category'])\n",
    "X = sample2.iloc[:,:-4]\n",
    "X = np.array(X)\n",
    "\n",
    "Y = labelEncode(Y)\n",
    "\n",
    "X_train, X_test, y_train, y_test = test_train_split(X,Y, p = 0.8)\n",
    "\n",
    "\n",
    "from sklearn.neighbors import KNeighborsClassifier\n",
    "\n",
    "classifier = KNeighborsClassifier(n_neighbors=  5)\n",
    "classifier.fit(X_train,y_train)\n",
    "print(classifier.score(X_test,y_test))"
   ]
  },
  {
   "cell_type": "markdown",
   "metadata": {},
   "source": [
    "## (b) Naive Bayes Classification"
   ]
  },
  {
   "cell_type": "markdown",
   "metadata": {},
   "source": [
    "#### Preparing data for classification"
   ]
  },
  {
   "cell_type": "code",
   "execution_count": 185,
   "metadata": {},
   "outputs": [],
   "source": [
    "# Generate a random sample of the values.\n",
    "sample = df.sample(frac = 1.0, random_state = 1)\n",
    "\n",
    "# Remove the columns of non-used attributes\n",
    "keep = ['Operator','Indoor_Outdoor_Travelling']\n",
    "non_var = list(df.columns.difference(keep))\n",
    "Y = sample['Call Drop Category']\n",
    "Y_labels = ['Call Dropped','Poor Voice Quality','Poor Network','Satisfactory']\n",
    "sample = sample.drop(non_var, axis = 1)\n",
    "sample = sample.astype('category')\n",
    "X = pd.get_dummies(sample)"
   ]
  },
  {
   "cell_type": "code",
   "execution_count": 186,
   "metadata": {},
   "outputs": [],
   "source": [
    "# Splitting the data into training and test sets\n",
    "from sklearn.model_selection import train_test_split\n",
    "X_train, X_test, Y_train, Y_test = train_test_split(X, Y, test_size=0.30, random_state=42)"
   ]
  },
  {
   "cell_type": "markdown",
   "metadata": {},
   "source": [
    "#### Filling conditional probabilities"
   ]
  },
  {
   "cell_type": "code",
   "execution_count": 187,
   "metadata": {},
   "outputs": [],
   "source": [
    "# Conditional probabilities P(X_column|Call Dropped),...\n",
    "probabilities = {'Call Dropped': {},'Poor Network': {},'Poor Voice Quality': {},'Satisfactory': {}}"
   ]
  },
  {
   "cell_type": "code",
   "execution_count": 188,
   "metadata": {},
   "outputs": [],
   "source": [
    "# Count of observations with ycol and xcol\n",
    "def cnt(x,y,xcol,ycol):\n",
    "    tempx,tempy = x[y == ycol], y[y == ycol]\n",
    "    tempx,tempy = tempx[x[xcol] == 1], tempy[x[xcol] == 1]\n",
    "    return len(tempy)"
   ]
  },
  {
   "cell_type": "code",
   "execution_count": 189,
   "metadata": {},
   "outputs": [],
   "source": [
    "# Filling in conditional probabilities P(explanatory_attribute|predction_labels)\n",
    "\n",
    "def fillProb(X_tr, Y_tr, cntCDC, probCDC):\n",
    "    for col in list(X_train.columns):\n",
    "        probabilities['Call Dropped'][col] = {}\n",
    "        probabilities['Poor Voice Quality'][col] = {}\n",
    "        probabilities['Poor Network'][col] = {}\n",
    "        probabilities['Satisfactory'][col] = {}\n",
    "    \n",
    "        cnt_CallDropped = cnt(X_tr, Y_tr,col,'Call Dropped')\n",
    "        cnt_PoorVoiceQuality = cnt(X_tr, Y_tr,col,'Poor Voice Quality')\n",
    "        cnt_PoorNetwork = cnt(X_tr, Y_tr,col,'Poor Network')\n",
    "        cnt_Satisfactory = cnt(X_tr, Y_tr,col,'Satisfactory')\n",
    "    \n",
    "        if (probCDC['Call Dropped'] != 0):\n",
    "            probabilities['Call Dropped'][col] = cnt_CallDropped/cntCDC['Call Dropped']\n",
    "        else:\n",
    "            probabilities['Call Dropped'][col] = 0\n",
    "        if (probCDC['Poor Voice Quality'] != 0):\n",
    "            probabilities['Poor Voice Quality'][col] = cnt_PoorVoiceQuality/cntCDC['Poor Voice Quality']\n",
    "        else:\n",
    "            probabilities['Poor Voice Quality'][col] = 0\n",
    "        if (probCDC['Poor Network'] != 0):\n",
    "            probabilities['Poor Network'][col] = cnt_PoorNetwork/cntCDC['Poor Network']\n",
    "        else:\n",
    "            probabilities['Poor Network'][col] = 0\n",
    "        if (probCDC['Satisfactory'] != 0):\n",
    "            probabilities['Satisfactory'][col] = cnt_Satisfactory/cntCDC['Satisfactory']\n",
    "        else:\n",
    "            probabilities['Satisfactory'][col] = 0"
   ]
  },
  {
   "cell_type": "markdown",
   "metadata": {},
   "source": [
    "#### Classification and Validation"
   ]
  },
  {
   "cell_type": "code",
   "execution_count": 190,
   "metadata": {},
   "outputs": [],
   "source": [
    "# Running the Classifier\n",
    "nbc = NBClassify()\n",
    "nbc.fitNB(X_train,Y_train)"
   ]
  },
  {
   "cell_type": "code",
   "execution_count": 191,
   "metadata": {},
   "outputs": [
    {
     "data": {
      "text/plain": [
       "0.6821754714040829"
      ]
     },
     "execution_count": 191,
     "metadata": {},
     "output_type": "execute_result"
    }
   ],
   "source": [
    "# Generating predictions\n",
    "predictions = nbc.predict(X_test)\n",
    "res = nbc.score(predictions,Y_test)\n",
    "res"
   ]
  },
  {
   "cell_type": "code",
   "execution_count": null,
   "metadata": {},
   "outputs": [],
   "source": []
  }
 ],
 "metadata": {
  "colab": {
   "name": "Preprocessing.ipynb",
   "provenance": []
  },
  "kernelspec": {
   "display_name": "Python 3",
   "language": "python",
   "name": "python3"
  },
  "language_info": {
   "codemirror_mode": {
    "name": "ipython",
    "version": 3
   },
   "file_extension": ".py",
   "mimetype": "text/x-python",
   "name": "python",
   "nbconvert_exporter": "python",
   "pygments_lexer": "ipython3",
   "version": "3.6.10"
  }
 },
 "nbformat": 4,
 "nbformat_minor": 1
}
